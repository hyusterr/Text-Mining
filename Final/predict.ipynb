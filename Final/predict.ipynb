{
 "cells": [
  {
   "cell_type": "code",
   "execution_count": 93,
   "metadata": {},
   "outputs": [
    {
     "name": "stdout",
     "output_type": "stream",
     "text": [
      "====== Prediction ========\n",
      "Filename: KMTPostsComments.xlsx\n",
      "Han's Arrow Score: 1.0\n",
      "Non-Han Score: 0.0\n"
     ]
    }
   ],
   "source": [
    "import numpy as np\n",
    "#np.set_printoptions(threshold=np.inf)\n",
    "import matplotlib.pyplot as plt\n",
    "import pandas as pd\n",
    "import math\n",
    "import os\n",
    "import json\n",
    "import jieba\n",
    "from sklearn.feature_extraction.text import TfidfVectorizer\n",
    "from sklearn.ensemble import RandomForestClassifier \n",
    "from sklearn import svm \n",
    "from sklearn.metrics import classification_report, confusion_matrix, accuracy_score\n",
    "from sklearn.model_selection import RandomizedSearchCV\n",
    "from sklearn.feature_selection import chi2, SelectKBest\n",
    "from sklearn.feature_extraction.text import CountVectorizer\n",
    "from sklearn.ensemble import RandomForestRegressor\n",
    "from sklearn.model_selection import GridSearchCV \n",
    "from sklearn.model_selection import cross_val_score\n",
    "import matplotlib.pyplot as plt\n",
    "from collections import Counter\n",
    "import operator\n",
    "from random import randint\n",
    "import pickle\n",
    "import sys\n",
    "import re\n",
    "import os\n",
    "from sklearn.feature_selection import chi2\n",
    "import random\n",
    "from ckiptagger import WS\n",
    "\n",
    "# word segmentation model\n",
    "ws = WS(\"./data\")\n",
    "\n",
    "def readPickle():\n",
    "\twith open('dataset.pickle', 'rb') as data:\n",
    "\t\tdata = pickle.load(data)\n",
    "\treturn(data)\n",
    "\n",
    "def removeNode(data):\n",
    "\tr1 = '[0-9’!１２３４５６７８９０\"#$%&\\'()（）*+,-/:;<=>?@，。?★、…【】《》＊;「」？“”‘’！：[\\\\]^_`{|}~‧，？.～ ；]+'\n",
    "\tfor i in range(len(data)):\n",
    "\t#for i in range(1):\n",
    "\t\tfor j in range(len(data[i][1])):\n",
    "\t\t\tdata[i][1][j] = re.sub(r1,'',data[i][1][j])\n",
    "\n",
    "\tfor i in range(len(data)):\n",
    "\t\tneedRemove = 0\n",
    "\t\tfor j in range(len(data[i][1])):\n",
    "\t\t\tif data[i][1][j-needRemove] == '':\n",
    "\t\t\t\t#print(j,j-needRemove,)\n",
    "\t\t\t\tdata[i][1].remove(data[i][1][j-needRemove])\n",
    "\t\t\t\tneedRemove += 1\n",
    "\treturn(data)\n",
    "\n",
    "def loadStopwords():\n",
    "\tstopwords = []\n",
    "\twith open('CN_stopwords.txt', 'r', encoding='UTF-8') as f1:\n",
    "\t\tfor line in f1:\n",
    "\t\t\tstopwords += (line.split())\n",
    "\treturn(stopwords)\n",
    "\n",
    "def splitTrainTest(data):\n",
    "\tlen_all = len(data)\n",
    "\tboundary = int(len_all*7/8)\n",
    "# \tprint(boundary)\n",
    "\trandom.shuffle(data)\n",
    "\ttrain_data = data[0:boundary]\n",
    "\ttest_data = data[boundary:]\n",
    "\ttrain_size = boundary\n",
    "\ttest_size = len_all - boundary\n",
    "\n",
    "\n",
    "\treturn(train_data, test_data, train_size, test_size)\n",
    "\n",
    "def makeDataList(train_data, test_data):\n",
    "\ttrain_x = []\n",
    "\ttrain_y = []\n",
    "\ttest_x = []\n",
    "\ttest_y = []\n",
    "\ttrain_str = []\n",
    "\ttest_str = []\n",
    "\tfor i in range(len(train_data)):\n",
    "\t\ttrain_x.append(train_data[i][1])\n",
    "\t\ttrain_y.append(train_data[i][0])\n",
    "\tfor i in range(len(test_data)):\n",
    "\t\ttest_x.append(test_data[i][1])\n",
    "\t\ttest_y.append(test_data[i][0])\n",
    "\n",
    "\tfor i in range(len(train_x)):\n",
    "\t\tstr1 = ' '.join(train_x[i])\n",
    "\t\tstr1 = re.sub('\\n','',str1)\n",
    "\t\ttrain_str.append(str1)\n",
    "\n",
    "\tfor i in range(len(test_x)):\n",
    "\t\tstr1 = ' '.join(test_x[i])\n",
    "\t\tstr1 = re.sub('\\n','',str1)\n",
    "\t\ttest_str.append(str1)\n",
    "\treturn(train_str, test_str, train_y, test_y)\n",
    "\n",
    "def dataRepresent(CN_stopwords, train_str, test_str):\n",
    "\ttfidfconverter = TfidfVectorizer(max_features = feature_num, min_df=5, max_df=0.6, stop_words=CN_stopwords) \n",
    "# \tprint(\"======== method : tfidfconverter =========\")\n",
    "\ttrain_x = tfidfconverter.fit_transform(train_str).toarray()\n",
    "\tfeatures = tfidfconverter.get_feature_names()\n",
    "# \tprint(\"======== features : tfidfconverter =========\")\n",
    "# \tprint(tfidfconverter.get_feature_names())\n",
    "\ttemp = TfidfVectorizer(vocabulary=features)\n",
    "\ttest_x = temp.fit_transform(test_str).toarray()\n",
    "\n",
    "\treturn train_x, test_x, temp\n",
    "\n",
    "# =========================== main function ===========================\n",
    "# =========== didn't revise because of laziness =======================\n",
    "feature_num = 420\n",
    "data = readPickle()\n",
    "data = removeNode(data)\n",
    "CN_stopwords = loadStopwords()\n",
    "train_data, test_data, train_size, test_size = splitTrainTest(data)\n",
    "train_str, test_str, train_y, test_y = makeDataList(train_data, test_data)\n",
    "train_x, test_x, tfidf_converter = dataRepresent(CN_stopwords, train_str, test_str)\n",
    "\n",
    "# ========================== load model ==============================\n",
    "with open('model.pickle', 'rb') as model:\n",
    "    classifier = pickle.load( model )\n",
    "    model.close()\n",
    "    \n",
    "# ========================== predict =================================\n",
    "post_filename = sys.argv[1]\n",
    "predict_posts = pd.read_excel(post_filename, index_col = 0)\n",
    "\n",
    "try:\n",
    "    lst = list( predict_posts['Content'].iloc[1:] )\n",
    "except KeyError:\n",
    "    lst = list( predict_posts['CommentContent'].iloc[1:] )\n",
    "\n",
    "lst = [' '.join(i) for i in ws(lst)] \n",
    "# pred_posts = []\n",
    "    \n",
    "# for i in lst:\n",
    "predict_posts_x = tfidf_converter.fit_transform( lst ).toarray()\n",
    "pred_posts = classifier.predict( predict_posts_x ) \n",
    "\n",
    "han_score = 1 - sum( pred_posts ) / len( pred_posts )\n",
    "non_han_score = sum( pred_posts ) / len( pred_posts )\n",
    "\n",
    "\n",
    "print('====== Prediction ========')\n",
    "print( 'Filename:', post_filename )\n",
    "print( \"Han's Arrow Score:\", han_score )\n",
    "print( 'Non-Han Score:', non_han_score )"
   ]
  },
  {
   "cell_type": "code",
   "execution_count": 94,
   "metadata": {},
   "outputs": [
    {
     "data": {
      "image/png": "[encoded data removed]",
      "text/plain": [
       "<Figure size 576x432 with 1 Axes>"
      ]
     },
     "metadata": {},
     "output_type": "display_data"
    }
   ],
   "source": [
    "# ========================== plotting ==================================\n",
    "\n",
    "labels = 'Han', 'Non-Han'\n",
    "sizes = [ han_score, non_han_score ]\n",
    "explode = (0.1, 0 )  # only \"explode\" the 2nd slice (i.e. 'Hogs')\n",
    "\n",
    "fig1, ax1 = plt.subplots(figsize=(8, 6))\n",
    "ax1.pie(sizes, explode=explode, labels=labels, autopct='%1.1f%%',\n",
    "        shadow=True, startangle=90)\n",
    "ax1.axis('equal')  # Equal aspect ratio ensures that pie is drawn as a circle.\n",
    "ax1.set_facecolor('xkcd:salmon')\n",
    "ax1.set_facecolor((1.0, 0.47, 0.42))\n",
    "plt.title( post_filename )\n",
    "\n",
    "plt.savefig(post_filename + '.png')"
   ]
  },
  {
   "cell_type": "code",
   "execution_count": 51,
   "metadata": {},
   "outputs": [],
   "source": [
    "# X_0 = []\n",
    "\n",
    "# for i in range(len(train_y)):\n",
    "#     if train_y[i] == 0:\n",
    "#         X_0.append(train_x[i])\n",
    "        \n",
    "# X_1 = []\n",
    "\n",
    "# for i in range(len(train_y)):\n",
    "#     if train_y[i] == 1:\n",
    "#         X_1.append(train_x[i])"
   ]
  },
  {
   "cell_type": "code",
   "execution_count": 55,
   "metadata": {},
   "outputs": [
    {
     "data": {
      "text/plain": [
       "0.615979381443299"
      ]
     },
     "execution_count": 55,
     "metadata": {},
     "output_type": "execute_result"
    }
   ],
   "source": [
    "# 1 - sum( classifier.predict(X_0) ) / len(X_0)"
   ]
  },
  {
   "cell_type": "code",
   "execution_count": 54,
   "metadata": {},
   "outputs": [
    {
     "data": {
      "text/plain": [
       "0.8082191780821918"
      ]
     },
     "execution_count": 54,
     "metadata": {},
     "output_type": "execute_result"
    }
   ],
   "source": [
    "# sum( classfier.predict(X_1) ) / len(X_1)"
   ]
  }
 ],
 "metadata": {
  "kernelspec": {
   "display_name": "Python 3",
   "language": "python",
   "name": "python3"
  },
  "language_info": {
   "codemirror_mode": {
    "name": "ipython",
    "version": 3
   },
   "file_extension": ".py",
   "mimetype": "text/x-python",
   "name": "python",
   "nbconvert_exporter": "python",
   "pygments_lexer": "ipython3",
   "version": "3.7.3"
  }
 },
 "nbformat": 4,
 "nbformat_minor": 2
}
