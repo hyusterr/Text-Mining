{
 "cells": [
  {
   "cell_type": "code",
   "execution_count": 2,
   "metadata": {},
   "outputs": [
    {
     "name": "stdout",
     "output_type": "stream",
     "text": [
      "\n",
      "WARNING: The TensorFlow contrib module will not be included in TensorFlow 2.0.\n",
      "For more information, please see:\n",
      "  * https://github.com/tensorflow/community/blob/master/rfcs/20180907-contrib-sunset.md\n",
      "  * https://github.com/tensorflow/addons\n",
      "If you depend on functionality not listed there, please file an issue.\n",
      "\n"
     ]
    }
   ],
   "source": [
    "# from ckiptagger import data_utils, construct_dictionary \n",
    "from ckiptagger import WS # , POS, NER\n",
    "import json\n",
    "import os\n",
    "import pickle\n",
    "\n",
    "\n",
    "# data_utils.download_data_url(\"./\")\n",
    "ws = WS(\"./data\")\n",
    "# pos = POS(\"./data\")\n",
    "# ner = NER(\"./data\")\n",
    "\n",
    "# read data\n",
    "\n",
    "data = []\n",
    "\n",
    "for i in os.listdir('./JSON'):\n",
    "    print('now processing:', i)\n",
    "    with open('./JSON/' + i, 'r', encoding='utf-8') as f:\n",
    "        d = json.load(f)\n",
    "        data += d\n",
    "        \n",
    "text  = []\n",
    "label = []\n",
    "\n",
    "for i in data:\n",
    "    text.append(i['content'])\n",
    "    label.append(i['ans'])\n",
    "    \n",
    "print('total number of sample:', len(text))\n",
    "    \n",
    "# remove null value\n",
    "\n",
    "null = []\n",
    "\n",
    "for i in range(len(text)):\n",
    "    if text[i] == None:\n",
    "        null.append(i)\n",
    "        \n",
    "print('null value position: ', null)\n",
    "\n",
    "for i in null[::-1]:\n",
    "    label.pop(i)\n",
    "    text.pop(i)\n",
    "    \n",
    "print('after removing null value:', len(text))\n",
    "\n",
    "\n",
    "print('doing word segment...')\n",
    "texts = ws(text)\n",
    "print('done!, save to dataset.pickle')\n",
    "dataset = [i for i in zip(label, texts)]\n",
    "\n",
    "# pickle a variable to a file\n",
    "file = open('dataset.pickle', 'wb')\n",
    "pickle.dump(dataset, file)\n",
    "file.close()"
   ]
  }
 ],
 "metadata": {
  "kernelspec": {
   "display_name": "Python 3",
   "language": "python",
   "name": "python3"
  },
  "language_info": {
   "codemirror_mode": {
    "name": "ipython",
    "version": 3
   },
   "file_extension": ".py",
   "mimetype": "text/x-python",
   "name": "python",
   "nbconvert_exporter": "python",
   "pygments_lexer": "ipython3",
   "version": "3.7.3"
  }
 },
 "nbformat": 4,
 "nbformat_minor": 2
}
