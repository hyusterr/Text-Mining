{
 "cells": [
  {
   "cell_type": "code",
   "execution_count": 7,
   "metadata": {},
   "outputs": [],
   "source": [
    "import os\n",
    "import numpy as np"
   ]
  },
  {
   "cell_type": "code",
   "execution_count": 3,
   "metadata": {},
   "outputs": [],
   "source": [
    "# from hw2\n",
    "\n",
    "# Vectorize Read in TFIDF File's text\n",
    "def Vectorize( string ):\n",
    "    '''\n",
    "    this function is for read in pre-calculated normalized tf-idf vector\n",
    "    '''\n",
    "    return [( int(t[0]), float(t[1]) ) for t in [ v.split() for v in string.split('\\n')[2:] ] ]\n",
    "\n",
    "\n",
    "# Calculate cosine between 2 vectors in O(n)\n",
    "def Cosine( vec1, vec2 ):\n",
    "    '''\n",
    "    this function is for calculating cosine-similarity between 2 vector\n",
    "    '''\n",
    "    cosine = 0.0\n",
    "    length = len(vec1) if len(vec1) <= len(vec2) else len(vec2)\n",
    "    \n",
    "    i1 = 0\n",
    "    i2 = 0\n",
    "    while i1 < length and i2 < length:\n",
    "        \n",
    "        if vec1[i1][0] == vec2[i2][0]:\n",
    "            cosine += vec1[i1][1] * vec2[i2][1]\n",
    "            i1 += 1\n",
    "            i2 += 1\n",
    "            \n",
    "        elif vec1[i1][0] > vec2[i2][0]:\n",
    "            i2 += 1\n",
    "            \n",
    "        else:\n",
    "            i1 += 1\n",
    "            \n",
    "    return cosine"
   ]
  },
  {
   "cell_type": "code",
   "execution_count": 50,
   "metadata": {},
   "outputs": [
    {
     "name": "stdout",
     "output_type": "stream",
     "text": [
      "total number of documents is:  1095\n",
      "reading pre-calculate tfidf vectors...\n",
      "calculating pairwise similarities...\n",
      "sucessfully built cosine similarity matrix\n"
     ]
    }
   ],
   "source": [
    "# O(n^2): calculate pairwise cosine similarity\n",
    "\n",
    "N = len(os.listdir('./IRTMhw2tfidfVec/'))\n",
    "\n",
    "print('total number of documents is: ', N)\n",
    "\n",
    "print('reading pre-calculate tfidf vectors...')\n",
    "\n",
    "vector_matrix = []\n",
    "cosine_matrix = np.array( [[0.] * N] * N )\n",
    "\n",
    "\n",
    "for i in range(1, 1096):\n",
    "    with open('./IRTMhw2tfidfVec/' + str(i) + '.txt', 'r') as f:\n",
    "        vect1 = Vectorize(f.read())\n",
    "        f.close()\n",
    "    vector_matrix.append( vect1 )\n",
    "    \n",
    "vector_matrix = np.array( vector_matrix )\n",
    "\n",
    "print('calculating pairwise similarities...')\n",
    "\n",
    "for i in range(1, 1096):\n",
    "    \n",
    "    for j in range(1, 1096):\n",
    "        \n",
    "        cosine_matrix[i - 1][j - 1] = Cosine( vector_matrix[i - 1], vector_matrix[j - 1] )\n",
    "        \n",
    "# save RAM space\n",
    "cosine_matrix = np.array( cosine_matrix )\n",
    "        \n",
    "print('sucessfully built cosine similarity matrix')"
   ]
  },
  {
   "cell_type": "code",
   "execution_count": 70,
   "metadata": {},
   "outputs": [
    {
     "data": {
      "text/plain": [
       "1.0000000000000007"
      ]
     },
     "execution_count": 70,
     "metadata": {},
     "output_type": "execute_result"
    }
   ],
   "source": [
    "cos_mat = cosine_matrix - np.identity(N)\n",
    "cos_mat[ np.unravel_index( np.argmax( cos_mat ) , cos_mat.shape ) ]"
   ]
  },
  {
   "cell_type": "code",
   "execution_count": 71,
   "metadata": {},
   "outputs": [],
   "source": [
    "I = np.array( [1] * N )"
   ]
  },
  {
   "cell_type": "code",
   "execution_count": null,
   "metadata": {},
   "outputs": [],
   "source": [
    "for k in range()"
   ]
  },
  {
   "cell_type": "code",
   "execution_count": null,
   "metadata": {},
   "outputs": [],
   "source": [
    "class Node():\n",
    "    \n",
    "    def __init__( self, vector, cls ):\n",
    "        \n",
    "        self.vector = vector\n",
    "        self.cls    = cls"
   ]
  },
  {
   "cell_type": "code",
   "execution_count": 65,
   "metadata": {},
   "outputs": [],
   "source": [
    "?np.argmax"
   ]
  }
 ],
 "metadata": {
  "kernelspec": {
   "display_name": "Python 3",
   "language": "python",
   "name": "python3"
  },
  "language_info": {
   "codemirror_mode": {
    "name": "ipython",
    "version": 3
   },
   "file_extension": ".py",
   "mimetype": "text/x-python",
   "name": "python",
   "nbconvert_exporter": "python",
   "pygments_lexer": "ipython3",
   "version": "3.7.3"
  }
 },
 "nbformat": 4,
 "nbformat_minor": 2
}
