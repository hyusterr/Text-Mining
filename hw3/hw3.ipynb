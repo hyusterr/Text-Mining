{
 "cells": [
  {
   "cell_type": "code",
   "execution_count": 1,
   "metadata": {},
   "outputs": [
    {
     "name": "stderr",
     "output_type": "stream",
     "text": [
      "[nltk_data] Downloading package stopwords to D:\\python3.7\\nltk_data...\n",
      "[nltk_data]   Package stopwords is already up-to-date!\n",
      "[nltk_data] Downloading package punkt to D:\\python3.7\\nltk_data...\n",
      "[nltk_data]   Package punkt is already up-to-date!\n"
     ]
    }
   ],
   "source": [
    "import os\n",
    "import sys\n",
    "import nltk\n",
    "nltk.download('stopwords') # download stopwords lexion\n",
    "nltk.download('punkt')     # download tokenize related tools \n",
    "import numpy as np\n",
    "from nltk.tokenize import word_tokenize\n",
    "from nltk.corpus import stopwords\n",
    "from nltk.stem.porter import *\n",
    "from num2words import num2words\n",
    "from collections import Counter"
   ]
  },
  {
   "cell_type": "code",
   "execution_count": 2,
   "metadata": {},
   "outputs": [],
   "source": [
    "# load data\n",
    "with open('./training.txt', 'r') as f:\n",
    "    training = f.readlines()\n",
    "    f.close()"
   ]
  },
  {
   "cell_type": "code",
   "execution_count": 3,
   "metadata": {},
   "outputs": [],
   "source": [
    "# prepare training data\n",
    "classes = [i.strip().split()[0]  for i in training]\n",
    "docs    = [i.strip().split()[1:] for i in training]\n",
    "class_N = np.array([len(i) for i in docs])\n",
    "\n",
    "training_N = 0\n",
    "for cls in docs:\n",
    "    training_N += len(cls)\n",
    "    \n",
    "prior = class_N / training_N"
   ]
  },
  {
   "cell_type": "code",
   "execution_count": 4,
   "metadata": {},
   "outputs": [],
   "source": [
    "# read stopwords\n",
    "stopwordset = set( stopwords.words( 'english' ) )\n",
    "# update english numbers to stopwords list  \n",
    "stopwordset.update( { num2words( i ) for i in range( 0, 20 ) } ) \n",
    "\n",
    "# initialize porter stemmer\n",
    "stemmer = PorterStemmer()\n",
    "\n",
    "    \n",
    "# function for tokenize -> remove stopwords -> stem\n",
    "def Preprocessing( sentence ):\n",
    "    \n",
    "    # tokenize\n",
    "    words = word_tokenize( sentence )\n",
    " \n",
    "    # remove stopwords and stemming, return a list\n",
    "    words = [ stemmer.stem( w.lower() ) for w in words if w.isalpha() and w.lower() not in stopwordset ] \n",
    "    \n",
    "    # return a list\n",
    "    return words\n",
    "\n",
    "\n",
    "def TrainMultiNB( docs ):\n",
    "    # get the dimension of all words\n",
    "    Dictionary = set()\n",
    "\n",
    "    # read through training corpus\n",
    "    for cls in docs:\n",
    "    \n",
    "        for doc in cls:\n",
    "    \n",
    "            with open( 'IRTM/' + doc + '.txt', 'r' ) as f:\n",
    "                text = set( Preprocessing( f.read() ) )\n",
    "                f.close()\n",
    "        \n",
    "            Dictionary.update( text )  \n",
    "        \n",
    "\n",
    "    # sort the counter\n",
    "    Dictionary = sorted(list(Dictionary))\n",
    "\n",
    "    print( 'Already built Dictionary!' )\n",
    "    print('length of dictionary: ', len(Dictionary))\n",
    "\n",
    "    # build word position dictionary\n",
    "    pos_dict = { Dictionary[i]: i for i in range(len(Dictionary)) }\n",
    "    term_N   = len(Dictionary)\n",
    "\n",
    "    # build class-TF matrix\n",
    "    cls_tf_matrix = []\n",
    "\n",
    "    for cls in docs:\n",
    "    \n",
    "        cls_tf_vec = [1] * term_N\n",
    "    \n",
    "        for doc in cls:\n",
    "        \n",
    "            with open('IRTM/' + doc + '.txt', 'r') as f:\n",
    "                text = Preprocessing( f.read() )\n",
    "                f.close()\n",
    "            \n",
    "            for term in text:\n",
    "                cls_tf_vec[ pos_dict[term] ] += 1\n",
    "            \n",
    "        cls_tf_matrix.append( cls_tf_vec )\n",
    "    \n",
    "    \n",
    "    cls_posterior_matrix = np.array( [ np.array(vec) / sum(vec) for vec in cls_tf_matrix ] )\n",
    "\n",
    "    print( 'the condtional prob. matrix is built, the shape is:', cls_posterior_matrix.shape )\n",
    "    \n",
    "    # return probability matrix, term frequency matrix, feature position matrix\n",
    "    \n",
    "    return cls_posterior_matrix, np.array( cls_tf_matrix ), pos_dict"
   ]
  },
  {
   "cell_type": "code",
   "execution_count": 5,
   "metadata": {},
   "outputs": [],
   "source": [
    "def NBPredict( cls_posterior_matrix, pos_dict, text ):\n",
    "\n",
    "    classes = [ str(i) for i in range(1, 14) ]\n",
    "    \n",
    "    doc = Preprocessing( text )\n",
    "    cls_scores = []\n",
    "    \n",
    "    for cls in range(len(prior)):\n",
    "        \n",
    "        cls_score = np.log(prior[cls])\n",
    "        \n",
    "        for term in doc:\n",
    "            if term in pos_dict:\n",
    "                cls_score += cls_posterior_matrix[cls][pos_dict[term]]\n",
    "                \n",
    "        cls_scores.append(cls_score)\n",
    "        \n",
    "    return classes[ np.argmax( np.array(cls_scores) ) ]"
   ]
  },
  {
   "cell_type": "code",
   "execution_count": 6,
   "metadata": {},
   "outputs": [],
   "source": [
    "def TrainBernoulliNB( docs ):\n",
    "    # get the dimension of all words\n",
    "    Dictionary = set()\n",
    "\n",
    "    # read through training corpus\n",
    "    for cls in docs:\n",
    "    \n",
    "        for doc in cls:\n",
    "    \n",
    "            with open( 'IRTM/' + doc + '.txt', 'r' ) as f:\n",
    "                text = set( Preprocessing( f.read() ) )\n",
    "                f.close()\n",
    "        \n",
    "            Dictionary.update( text )  \n",
    "        \n",
    "\n",
    "    # sort the counter\n",
    "    Dictionary = sorted(list(Dictionary))\n",
    "\n",
    "    print( 'Already built Dictionary!' )\n",
    "    print('length of dictionary: ', len(Dictionary))\n",
    "\n",
    "    # build word position dictionary\n",
    "    pos_dict = { Dictionary[i]: i for i in range(len(Dictionary)) }\n",
    "    term_N   = len(Dictionary)\n",
    "\n",
    "    # build class-TF matrix\n",
    "    cls_tf_matrix = []\n",
    "\n",
    "    for cls in docs:\n",
    "    \n",
    "        cls_tf_vec = [1] * term_N\n",
    "    \n",
    "        for doc in cls:\n",
    "        \n",
    "            with open('IRTM/' + doc + '.txt', 'r') as f:\n",
    "                text = set( Preprocessing( f.read() ) )\n",
    "                f.close()\n",
    "            \n",
    "            for term in text:\n",
    "                cls_tf_vec[ pos_dict[term] ] += 1\n",
    "            \n",
    "        cls_tf_matrix.append( cls_tf_vec )\n",
    "    \n",
    "    \n",
    "    cls_posterior_matrix = np.array( [ np.array(vec) / sum(vec) for vec in cls_tf_matrix ] )\n",
    "\n",
    "    print( 'the condtional prob. matrix is built, the shape is:', cls_posterior_matrix.shape )\n",
    "    \n",
    "    return cls_posterior_matrix, np.array( cls_tf_matrix ), pos_dict"
   ]
  },
  {
   "cell_type": "code",
   "execution_count": 7,
   "metadata": {},
   "outputs": [],
   "source": [
    "# prepare testing set\n",
    "\n",
    "training_set = []\n",
    "for i in docs:\n",
    "    training_set += i\n",
    "    \n",
    "testing_set = []\n",
    "for i in range(1, 1096):\n",
    "    if str(i) not in training_set:\n",
    "        testing_set.append(str(i))"
   ]
  },
  {
   "cell_type": "code",
   "execution_count": 8,
   "metadata": {},
   "outputs": [
    {
     "name": "stdout",
     "output_type": "stream",
     "text": [
      "Already built Dictionary!\n",
      "length of dictionary:  5029\n",
      "the condtional prob. matrix is built, the shape is: (13, 5029)\n"
     ]
    }
   ],
   "source": [
    "# training\n",
    "\n",
    "cls_condi_matrix, cls_tf_matrix, pos_dict = TrainMultiNB( docs )"
   ]
  },
  {
   "cell_type": "code",
   "execution_count": 9,
   "metadata": {},
   "outputs": [],
   "source": [
    "# predict on testing set\n",
    "\n",
    "out = []\n",
    "\n",
    "for txt in testing_set:\n",
    "    with open('./IRTM/' + txt + '.txt') as f:\n",
    "        t = f.read()\n",
    "        f.close()\n",
    "    out.append(NBPredict( cls_condi_matrix, pos_dict, t ))"
   ]
  },
  {
   "cell_type": "code",
   "execution_count": 10,
   "metadata": {},
   "outputs": [],
   "source": [
    "outcsv = 'id,Value\\n'\n",
    "\n",
    "for idx, val in zip( testing_set, out ):\n",
    "    outcsv += idx + ',' + val + '\\n'\n",
    "\n",
    "with open('out.csv', 'w') as f:\n",
    "    f.write(outcsv)\n",
    "    f.close()"
   ]
  },
  {
   "cell_type": "code",
   "execution_count": 11,
   "metadata": {},
   "outputs": [
    {
     "name": "stdout",
     "output_type": "stream",
     "text": [
      "Already built Dictionary!\n",
      "length of dictionary:  5029\n",
      "the condtional prob. matrix is built, the shape is: (13, 5029)\n"
     ]
    }
   ],
   "source": [
    "# Bernoulli Training\n",
    "\n",
    "ber_cls_prob_matrix, ber_cls_df_matrix, ber_pos_dict = TrainBernoulliNB( docs )"
   ]
  },
  {
   "cell_type": "code",
   "execution_count": 12,
   "metadata": {},
   "outputs": [],
   "source": [
    "# predict on testing set\n",
    "\n",
    "ber_out = []\n",
    "\n",
    "for txt in testing_set:\n",
    "    with open('./IRTM/' + txt + '.txt') as f:\n",
    "        t = f.read()\n",
    "        f.close()\n",
    "    ber_out.append(NBPredict( ber_cls_prob_matrix, ber_pos_dict, t ))\n",
    "    \n",
    "ber_outcsv = 'id,Value\\n'\n",
    "\n",
    "for idx, val in zip( testing_set, ber_out ):\n",
    "    ber_outcsv += idx + ',' + val + '\\n'\n",
    "\n",
    "with open('ber_out.csv', 'w') as f:\n",
    "    f.write(ber_outcsv)\n",
    "    f.close()"
   ]
  },
  {
   "cell_type": "code",
   "execution_count": 13,
   "metadata": {},
   "outputs": [],
   "source": [
    "def CalculateChiScore( tf_vec ):\n",
    "    \n",
    "    chi_score = 0\n",
    "    \n",
    "    for cls in range( len( tf_vec ) ): # 13 classes\n",
    "        \n",
    "        present_ontopic  = tf_vec[cls]\n",
    "        absent_ontopic   = len(docs[cls]) - present_ontopic\n",
    "        present_offtopic = sum( tf_vec ) - present_ontopic\n",
    "        absent_offtopic  = len( training_set ) - present_ontopic - present_offtopic - absent_ontopic\n",
    "        \n",
    "        present = present_offtopic + present_ontopic\n",
    "        ontopic = present_ontopic  + absent_ontopic\n",
    "        \n",
    "        Ne = len( training_set ) * present / len( training_set ) * ontopic / len( training_set )\n",
    "        \n",
    "        chi_score += ( present_ontopic - Ne ) ** 2 / Ne\n",
    "        \n",
    "    return chi_score\n",
    "\n",
    "# print( len(ber_cls_df_matrix[0,]))\n",
    "\n",
    "chi_score_list = []\n",
    "\n",
    "for i in range( len(ber_cls_df_matrix[0]) ):\n",
    "    \n",
    "    # return to original tf matrix\n",
    "    # vector shape (13, 1)\n",
    "    ori_df_vec = ber_cls_df_matrix[:,i] - 1 \n",
    "#     print( ori_df_vec )\n",
    "    chi_score_list.append( (i, CalculateChiScore(ori_df_vec) ) )\n",
    "#     chi\n",
    "#     absent   = len(training_set) - present\n",
    "    "
   ]
  },
  {
   "cell_type": "code",
   "execution_count": 15,
   "metadata": {},
   "outputs": [],
   "source": [
    "chi_select = sorted( chi_score_list, key= lambda x: x[1], reverse=True )[:300]\n",
    "pos_chi_list = [ x[0] for x in chi_select ]"
   ]
  },
  {
   "cell_type": "code",
   "execution_count": 16,
   "metadata": {},
   "outputs": [],
   "source": [
    "def ChiNBPredict( cls_posterior_matrix, pos_dict, pos_chi_list, text ):\n",
    "\n",
    "    doc = Preprocessing( text )\n",
    "    cls_scores = []\n",
    "    \n",
    "    for cls in range(len(prior)):\n",
    "        \n",
    "        cls_score = np.log(prior[cls])\n",
    "        \n",
    "        for term in doc:\n",
    "            if term in pos_dict and pos_dict[term] in pos_chi_list:\n",
    "                cls_score += cls_posterior_matrix[cls][pos_dict[term]]\n",
    "                \n",
    "        cls_scores.append(cls_score)\n",
    "        \n",
    "    return classes[ np.argmax( np.array(cls_scores) ) ]"
   ]
  },
  {
   "cell_type": "code",
   "execution_count": 17,
   "metadata": {},
   "outputs": [],
   "source": [
    "# predict on testing set\n",
    "\n",
    "chi_out = []\n",
    "\n",
    "for txt in testing_set:\n",
    "    with open('./IRTM/' + txt + '.txt') as f:\n",
    "        t = f.read()\n",
    "        f.close()\n",
    "    chi_out.append( ChiNBPredict( cls_condi_matrix, pos_dict, pos_chi_list, t) )\n",
    "    \n",
    "chi_outcsv = 'id,Value\\n'\n",
    "\n",
    "for idx, val in zip( testing_set, chi_out ):\n",
    "    chi_outcsv += idx + ',' + val + '\\n'\n",
    "\n",
    "with open('mul_chi_out.csv', 'w') as f:\n",
    "    f.write(chi_outcsv)\n",
    "    f.close()"
   ]
  },
  {
   "cell_type": "code",
   "execution_count": 18,
   "metadata": {},
   "outputs": [],
   "source": [
    "# predict on testing set\n",
    "\n",
    "chi_ber_out = []\n",
    "\n",
    "for txt in testing_set:\n",
    "    with open('./IRTM/' + txt + '.txt') as f:\n",
    "        t = f.read()\n",
    "        f.close()\n",
    "    chi_ber_out.append( ChiNBPredict( ber_cls_prob_matrix, ber_pos_dict, pos_chi_list, t) )\n",
    "    \n",
    "chi_ber_outcsv = 'id,Value\\n'\n",
    "\n",
    "for idx, val in zip( testing_set, chi_ber_out ):\n",
    "    chi_ber_outcsv += idx + ',' + val + '\\n'\n",
    "\n",
    "with open('chi_ber_out.csv', 'w') as f:\n",
    "    f.write(chi_ber_outcsv)\n",
    "    f.close()"
   ]
  }
 ],
 "metadata": {
  "kernelspec": {
   "display_name": "Python 3",
   "language": "python",
   "name": "python3"
  },
  "language_info": {
   "codemirror_mode": {
    "name": "ipython",
    "version": 3
   },
   "file_extension": ".py",
   "mimetype": "text/x-python",
   "name": "python",
   "nbconvert_exporter": "python",
   "pygments_lexer": "ipython3",
   "version": "3.7.3"
  }
 },
 "nbformat": 4,
 "nbformat_minor": 2
}
